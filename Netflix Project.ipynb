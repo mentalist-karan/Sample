{
 "cells": [
  {
   "cell_type": "markdown",
   "id": "16c1d31f",
   "metadata": {},
   "source": [
    "# 1. Initializing Packages and Program Variables"
   ]
  },
  {
   "cell_type": "code",
   "execution_count": 24,
   "id": "ff49d099",
   "metadata": {},
   "outputs": [],
   "source": [
    "import pandas as pd\n",
    "import matplotlib.pyplot as plt\n",
    "import numpy as np\n",
    "from collections import Counter\n",
    "import seaborn as sns\n",
    "import scipy.stats as sts"
   ]
  },
  {
   "cell_type": "code",
   "execution_count": 1,
   "id": "35e84727",
   "metadata": {
    "collapsed": true
   },
   "outputs": [
    {
     "name": "stdout",
     "output_type": "stream",
     "text": [
      "['C:\\\\Users\\\\91878\\\\anaconda3\\\\Jupyter Projects', 'C:\\\\Users\\\\91878\\\\anaconda3\\\\python38.zip', 'C:\\\\Users\\\\91878\\\\anaconda3\\\\DLLs', 'C:\\\\Users\\\\91878\\\\anaconda3\\\\lib', 'C:\\\\Users\\\\91878\\\\anaconda3', '', 'C:\\\\Users\\\\91878\\\\AppData\\\\Roaming\\\\Python\\\\Python38\\\\site-packages', 'C:\\\\Users\\\\91878\\\\anaconda3\\\\lib\\\\site-packages', 'C:\\\\Users\\\\91878\\\\anaconda3\\\\lib\\\\site-packages\\\\locket-0.2.1-py3.8.egg', 'C:\\\\Users\\\\91878\\\\anaconda3\\\\lib\\\\site-packages\\\\win32', 'C:\\\\Users\\\\91878\\\\anaconda3\\\\lib\\\\site-packages\\\\win32\\\\lib', 'C:\\\\Users\\\\91878\\\\anaconda3\\\\lib\\\\site-packages\\\\Pythonwin', 'C:\\\\Users\\\\91878\\\\anaconda3\\\\lib\\\\site-packages\\\\IPython\\\\extensions', 'C:\\\\Users\\\\91878\\\\.ipython']\n"
     ]
    }
   ],
   "source": [
    "import sys\n",
    "print(sys.path)\n",
    "sys.path.remove('C:\\\\Users\\\\91878\\\\AppData\\\\Roaming\\\\Python\\\\Python38\\\\site-packages')"
   ]
  },
  {
   "cell_type": "markdown",
   "id": "04cf1c67",
   "metadata": {},
   "source": [
    "# 2. Data Loading and Cleaning"
   ]
  },
  {
   "cell_type": "markdown",
   "id": "23a9577d",
   "metadata": {},
   "source": [
    "Loading the data"
   ]
  },
  {
   "cell_type": "code",
   "execution_count": 76,
   "id": "fb1c16a5",
   "metadata": {
    "scrolled": true
   },
   "outputs": [
    {
     "data": {
      "text/html": [
       "<div>\n",
       "<style scoped>\n",
       "    .dataframe tbody tr th:only-of-type {\n",
       "        vertical-align: middle;\n",
       "    }\n",
       "\n",
       "    .dataframe tbody tr th {\n",
       "        vertical-align: top;\n",
       "    }\n",
       "\n",
       "    .dataframe thead th {\n",
       "        text-align: right;\n",
       "    }\n",
       "</style>\n",
       "<table border=\"1\" class=\"dataframe\">\n",
       "  <thead>\n",
       "    <tr style=\"text-align: right;\">\n",
       "      <th></th>\n",
       "      <th>show_id</th>\n",
       "      <th>type</th>\n",
       "      <th>title</th>\n",
       "      <th>director</th>\n",
       "      <th>cast</th>\n",
       "      <th>country</th>\n",
       "      <th>date_added</th>\n",
       "      <th>release_year</th>\n",
       "      <th>rating</th>\n",
       "      <th>duration</th>\n",
       "      <th>listed_in</th>\n",
       "      <th>description</th>\n",
       "    </tr>\n",
       "  </thead>\n",
       "  <tbody>\n",
       "    <tr>\n",
       "      <th>0</th>\n",
       "      <td>s1</td>\n",
       "      <td>TV Show</td>\n",
       "      <td>3%</td>\n",
       "      <td>NaN</td>\n",
       "      <td>João Miguel, Bianca Comparato, Michel Gomes, R...</td>\n",
       "      <td>Brazil</td>\n",
       "      <td>August 14, 2020</td>\n",
       "      <td>2020</td>\n",
       "      <td>TV-MA</td>\n",
       "      <td>4 Seasons</td>\n",
       "      <td>International TV Shows, TV Dramas, TV Sci-Fi &amp;...</td>\n",
       "      <td>In a future where the elite inhabit an island ...</td>\n",
       "    </tr>\n",
       "    <tr>\n",
       "      <th>1</th>\n",
       "      <td>s2</td>\n",
       "      <td>Movie</td>\n",
       "      <td>7:19</td>\n",
       "      <td>Jorge Michel Grau</td>\n",
       "      <td>Demián Bichir, Héctor Bonilla, Oscar Serrano, ...</td>\n",
       "      <td>Mexico</td>\n",
       "      <td>December 23, 2016</td>\n",
       "      <td>2016</td>\n",
       "      <td>TV-MA</td>\n",
       "      <td>93 min</td>\n",
       "      <td>Dramas, International Movies</td>\n",
       "      <td>After a devastating earthquake hits Mexico Cit...</td>\n",
       "    </tr>\n",
       "    <tr>\n",
       "      <th>2</th>\n",
       "      <td>s3</td>\n",
       "      <td>Movie</td>\n",
       "      <td>23:59</td>\n",
       "      <td>Gilbert Chan</td>\n",
       "      <td>Tedd Chan, Stella Chung, Henley Hii, Lawrence ...</td>\n",
       "      <td>Singapore</td>\n",
       "      <td>December 20, 2018</td>\n",
       "      <td>2011</td>\n",
       "      <td>R</td>\n",
       "      <td>78 min</td>\n",
       "      <td>Horror Movies, International Movies</td>\n",
       "      <td>When an army recruit is found dead, his fellow...</td>\n",
       "    </tr>\n",
       "    <tr>\n",
       "      <th>3</th>\n",
       "      <td>s4</td>\n",
       "      <td>Movie</td>\n",
       "      <td>9</td>\n",
       "      <td>Shane Acker</td>\n",
       "      <td>Elijah Wood, John C. Reilly, Jennifer Connelly...</td>\n",
       "      <td>United States</td>\n",
       "      <td>November 16, 2017</td>\n",
       "      <td>2009</td>\n",
       "      <td>PG-13</td>\n",
       "      <td>80 min</td>\n",
       "      <td>Action &amp; Adventure, Independent Movies, Sci-Fi...</td>\n",
       "      <td>In a postapocalyptic world, rag-doll robots hi...</td>\n",
       "    </tr>\n",
       "    <tr>\n",
       "      <th>4</th>\n",
       "      <td>s5</td>\n",
       "      <td>Movie</td>\n",
       "      <td>21</td>\n",
       "      <td>Robert Luketic</td>\n",
       "      <td>Jim Sturgess, Kevin Spacey, Kate Bosworth, Aar...</td>\n",
       "      <td>United States</td>\n",
       "      <td>January 1, 2020</td>\n",
       "      <td>2008</td>\n",
       "      <td>PG-13</td>\n",
       "      <td>123 min</td>\n",
       "      <td>Dramas</td>\n",
       "      <td>A brilliant group of students become card-coun...</td>\n",
       "    </tr>\n",
       "  </tbody>\n",
       "</table>\n",
       "</div>"
      ],
      "text/plain": [
       "  show_id     type  title           director  \\\n",
       "0      s1  TV Show     3%                NaN   \n",
       "1      s2    Movie   7:19  Jorge Michel Grau   \n",
       "2      s3    Movie  23:59       Gilbert Chan   \n",
       "3      s4    Movie      9        Shane Acker   \n",
       "4      s5    Movie     21     Robert Luketic   \n",
       "\n",
       "                                                cast        country  \\\n",
       "0  João Miguel, Bianca Comparato, Michel Gomes, R...         Brazil   \n",
       "1  Demián Bichir, Héctor Bonilla, Oscar Serrano, ...         Mexico   \n",
       "2  Tedd Chan, Stella Chung, Henley Hii, Lawrence ...      Singapore   \n",
       "3  Elijah Wood, John C. Reilly, Jennifer Connelly...  United States   \n",
       "4  Jim Sturgess, Kevin Spacey, Kate Bosworth, Aar...  United States   \n",
       "\n",
       "          date_added  release_year rating   duration  \\\n",
       "0    August 14, 2020          2020  TV-MA  4 Seasons   \n",
       "1  December 23, 2016          2016  TV-MA     93 min   \n",
       "2  December 20, 2018          2011      R     78 min   \n",
       "3  November 16, 2017          2009  PG-13     80 min   \n",
       "4    January 1, 2020          2008  PG-13    123 min   \n",
       "\n",
       "                                           listed_in  \\\n",
       "0  International TV Shows, TV Dramas, TV Sci-Fi &...   \n",
       "1                       Dramas, International Movies   \n",
       "2                Horror Movies, International Movies   \n",
       "3  Action & Adventure, Independent Movies, Sci-Fi...   \n",
       "4                                             Dramas   \n",
       "\n",
       "                                         description  \n",
       "0  In a future where the elite inhabit an island ...  \n",
       "1  After a devastating earthquake hits Mexico Cit...  \n",
       "2  When an army recruit is found dead, his fellow...  \n",
       "3  In a postapocalyptic world, rag-doll robots hi...  \n",
       "4  A brilliant group of students become card-coun...  "
      ]
     },
     "metadata": {},
     "output_type": "display_data"
    }
   ],
   "source": [
    "df = pd.read_csv('netflix_titles.csv')\n",
    "display(df.head(5))"
   ]
  },
  {
   "cell_type": "markdown",
   "id": "ff07a0f7",
   "metadata": {},
   "source": [
    "Cleaning the data"
   ]
  },
  {
   "cell_type": "code",
   "execution_count": 4,
   "id": "92c04519",
   "metadata": {
    "collapsed": true
   },
   "outputs": [
    {
     "name": "stdout",
     "output_type": "stream",
     "text": [
      "<class 'pandas.core.frame.DataFrame'>\n",
      "RangeIndex: 7787 entries, 0 to 7786\n",
      "Data columns (total 12 columns):\n",
      " #   Column        Non-Null Count  Dtype \n",
      "---  ------        --------------  ----- \n",
      " 0   show_id       7787 non-null   object\n",
      " 1   type          7787 non-null   object\n",
      " 2   title         7787 non-null   object\n",
      " 3   director      5398 non-null   object\n",
      " 4   cast          7069 non-null   object\n",
      " 5   country       7280 non-null   object\n",
      " 6   date_added    7777 non-null   object\n",
      " 7   release_year  7787 non-null   int64 \n",
      " 8   rating        7780 non-null   object\n",
      " 9   duration      7787 non-null   object\n",
      " 10  listed_in     7787 non-null   object\n",
      " 11  description   7787 non-null   object\n",
      "dtypes: int64(1), object(11)\n",
      "memory usage: 730.2+ KB\n",
      "None\n"
     ]
    }
   ],
   "source": [
    "print(df.info())\n",
    "df = df.fillna(value = {'director': 'Director Not Mentioned', 'cast' : 'Cast Not Available', 'country': 'Country Unavailable'})\n"
   ]
  },
  {
   "cell_type": "markdown",
   "id": "2ac06b10",
   "metadata": {},
   "source": [
    "Adding additional columns to the Dataframe"
   ]
  },
  {
   "cell_type": "code",
   "execution_count": 78,
   "id": "2e5ba6a9",
   "metadata": {},
   "outputs": [
    {
     "data": {
      "text/html": [
       "<div>\n",
       "<style scoped>\n",
       "    .dataframe tbody tr th:only-of-type {\n",
       "        vertical-align: middle;\n",
       "    }\n",
       "\n",
       "    .dataframe tbody tr th {\n",
       "        vertical-align: top;\n",
       "    }\n",
       "\n",
       "    .dataframe thead th {\n",
       "        text-align: right;\n",
       "    }\n",
       "</style>\n",
       "<table border=\"1\" class=\"dataframe\">\n",
       "  <thead>\n",
       "    <tr style=\"text-align: right;\">\n",
       "      <th></th>\n",
       "      <th>show_id</th>\n",
       "      <th>type</th>\n",
       "      <th>title</th>\n",
       "      <th>director</th>\n",
       "      <th>cast</th>\n",
       "      <th>country</th>\n",
       "      <th>date_added</th>\n",
       "      <th>release_year</th>\n",
       "      <th>rating</th>\n",
       "      <th>duration</th>\n",
       "      <th>listed_in</th>\n",
       "      <th>description</th>\n",
       "      <th>years</th>\n",
       "      <th>Country Type</th>\n",
       "    </tr>\n",
       "  </thead>\n",
       "  <tbody>\n",
       "    <tr>\n",
       "      <th>0</th>\n",
       "      <td>s1</td>\n",
       "      <td>TV Show</td>\n",
       "      <td>3%</td>\n",
       "      <td>NaN</td>\n",
       "      <td>João Miguel, Bianca Comparato, Michel Gomes, R...</td>\n",
       "      <td>Brazil</td>\n",
       "      <td>August 14, 2020</td>\n",
       "      <td>2020</td>\n",
       "      <td>TV-MA</td>\n",
       "      <td>4 Seasons</td>\n",
       "      <td>International TV Shows, TV Dramas, TV Sci-Fi &amp;...</td>\n",
       "      <td>In a future where the elite inhabit an island ...</td>\n",
       "      <td>2008</td>\n",
       "      <td>Others</td>\n",
       "    </tr>\n",
       "    <tr>\n",
       "      <th>1</th>\n",
       "      <td>s2</td>\n",
       "      <td>Movie</td>\n",
       "      <td>7:19</td>\n",
       "      <td>Jorge Michel Grau</td>\n",
       "      <td>Demián Bichir, Héctor Bonilla, Oscar Serrano, ...</td>\n",
       "      <td>Mexico</td>\n",
       "      <td>December 23, 2016</td>\n",
       "      <td>2016</td>\n",
       "      <td>TV-MA</td>\n",
       "      <td>93 min</td>\n",
       "      <td>Dramas, International Movies</td>\n",
       "      <td>After a devastating earthquake hits Mexico Cit...</td>\n",
       "      <td>2008</td>\n",
       "      <td>Others</td>\n",
       "    </tr>\n",
       "    <tr>\n",
       "      <th>2</th>\n",
       "      <td>s3</td>\n",
       "      <td>Movie</td>\n",
       "      <td>23:59</td>\n",
       "      <td>Gilbert Chan</td>\n",
       "      <td>Tedd Chan, Stella Chung, Henley Hii, Lawrence ...</td>\n",
       "      <td>Singapore</td>\n",
       "      <td>December 20, 2018</td>\n",
       "      <td>2011</td>\n",
       "      <td>R</td>\n",
       "      <td>78 min</td>\n",
       "      <td>Horror Movies, International Movies</td>\n",
       "      <td>When an army recruit is found dead, his fellow...</td>\n",
       "      <td>2009</td>\n",
       "      <td>Others</td>\n",
       "    </tr>\n",
       "    <tr>\n",
       "      <th>3</th>\n",
       "      <td>s4</td>\n",
       "      <td>Movie</td>\n",
       "      <td>9</td>\n",
       "      <td>Shane Acker</td>\n",
       "      <td>Elijah Wood, John C. Reilly, Jennifer Connelly...</td>\n",
       "      <td>United States</td>\n",
       "      <td>November 16, 2017</td>\n",
       "      <td>2009</td>\n",
       "      <td>PG-13</td>\n",
       "      <td>80 min</td>\n",
       "      <td>Action &amp; Adventure, Independent Movies, Sci-Fi...</td>\n",
       "      <td>In a postapocalyptic world, rag-doll robots hi...</td>\n",
       "      <td>2009</td>\n",
       "      <td>United States</td>\n",
       "    </tr>\n",
       "    <tr>\n",
       "      <th>4</th>\n",
       "      <td>s5</td>\n",
       "      <td>Movie</td>\n",
       "      <td>21</td>\n",
       "      <td>Robert Luketic</td>\n",
       "      <td>Jim Sturgess, Kevin Spacey, Kate Bosworth, Aar...</td>\n",
       "      <td>United States</td>\n",
       "      <td>January 1, 2020</td>\n",
       "      <td>2008</td>\n",
       "      <td>PG-13</td>\n",
       "      <td>123 min</td>\n",
       "      <td>Dramas</td>\n",
       "      <td>A brilliant group of students become card-coun...</td>\n",
       "      <td>2010</td>\n",
       "      <td>United States</td>\n",
       "    </tr>\n",
       "  </tbody>\n",
       "</table>\n",
       "</div>"
      ],
      "text/plain": [
       "  show_id     type  title           director  \\\n",
       "0      s1  TV Show     3%                NaN   \n",
       "1      s2    Movie   7:19  Jorge Michel Grau   \n",
       "2      s3    Movie  23:59       Gilbert Chan   \n",
       "3      s4    Movie      9        Shane Acker   \n",
       "4      s5    Movie     21     Robert Luketic   \n",
       "\n",
       "                                                cast        country  \\\n",
       "0  João Miguel, Bianca Comparato, Michel Gomes, R...         Brazil   \n",
       "1  Demián Bichir, Héctor Bonilla, Oscar Serrano, ...         Mexico   \n",
       "2  Tedd Chan, Stella Chung, Henley Hii, Lawrence ...      Singapore   \n",
       "3  Elijah Wood, John C. Reilly, Jennifer Connelly...  United States   \n",
       "4  Jim Sturgess, Kevin Spacey, Kate Bosworth, Aar...  United States   \n",
       "\n",
       "          date_added  release_year rating   duration  \\\n",
       "0    August 14, 2020          2020  TV-MA  4 Seasons   \n",
       "1  December 23, 2016          2016  TV-MA     93 min   \n",
       "2  December 20, 2018          2011      R     78 min   \n",
       "3  November 16, 2017          2009  PG-13     80 min   \n",
       "4    January 1, 2020          2008  PG-13    123 min   \n",
       "\n",
       "                                           listed_in  \\\n",
       "0  International TV Shows, TV Dramas, TV Sci-Fi &...   \n",
       "1                       Dramas, International Movies   \n",
       "2                Horror Movies, International Movies   \n",
       "3  Action & Adventure, Independent Movies, Sci-Fi...   \n",
       "4                                             Dramas   \n",
       "\n",
       "                                         description years   Country Type  \n",
       "0  In a future where the elite inhabit an island ...  2008         Others  \n",
       "1  After a devastating earthquake hits Mexico Cit...  2008         Others  \n",
       "2  When an army recruit is found dead, his fellow...  2009         Others  \n",
       "3  In a postapocalyptic world, rag-doll robots hi...  2009  United States  \n",
       "4  A brilliant group of students become card-coun...  2010  United States  "
      ]
     },
     "metadata": {},
     "output_type": "display_data"
    }
   ],
   "source": [
    "dates = df['date_added']\n",
    "year_added = [str(i)[-4:] for i in dates]\n",
    "year_added.sort()\n",
    "year_dict = Counter(year_added)\n",
    "year_dict.pop('nan')\n",
    "years = list(int(i) for i in year_dict.keys())\n",
    "values = list(year_dict.values())\n",
    "df['years'] = year_added\n",
    "df['Country Type'] = df['country'].apply(lambda x: 'United States' if x == 'United States' else 'Others')\n",
    "display(df.head())"
   ]
  },
  {
   "cell_type": "markdown",
   "id": "79814026",
   "metadata": {},
   "source": [
    "# 3. Data Visualization"
   ]
  },
  {
   "cell_type": "markdown",
   "id": "8b416dbb",
   "metadata": {},
   "source": [
    "## 3A. Preliminary Data Visualization"
   ]
  },
  {
   "cell_type": "markdown",
   "id": "bb832efa",
   "metadata": {},
   "source": [
    "Bar Chart of Netflix Titles added over the years "
   ]
  },
  {
   "cell_type": "code",
   "execution_count": 6,
   "id": "a6deb0bc",
   "metadata": {
    "scrolled": true
   },
   "outputs": [
    {
     "data": {
      "image/png": "[encoded data removed]",
      "text/plain": [
       "<Figure size 432x288 with 1 Axes>"
      ]
     },
     "metadata": {
      "needs_background": "light"
     },
     "output_type": "display_data"
    }
   ],
   "source": [
    "plt.bar(years, values, color = 'red', edgecolor = 'black',align='edge', width=0.8)\n",
    "plt.title('Netflix Titles Added Over Years', fontsize=14)\n",
    "plt.xlabel('Years', fontsize=14)\n",
    "plt.xticks(rotation = 45)\n",
    "plt.ylabel('Number of Titles', fontsize=14)\n",
    "plt.grid(True)\n",
    "plt.show()"
   ]
  },
  {
   "cell_type": "markdown",
   "id": "c6e816a3",
   "metadata": {},
   "source": [
    "KDE Plot of Movie releases over the years"
   ]
  },
  {
   "cell_type": "code",
   "execution_count": 107,
   "id": "b84cd705",
   "metadata": {},
   "outputs": [
    {
     "data": {
      "image/png": "[encoded data removed]",
      "text/plain": [
       "<Figure size 432x288 with 1 Axes>"
      ]
     },
     "metadata": {},
     "output_type": "display_data"
    }
   ],
   "source": [
    "sns.set_style('dark')\n",
    "sns.set_context('notebook')\n",
    "sns.kdeplot(data = df, fill = True)\n",
    "plt.show()"
   ]
  },
  {
   "cell_type": "markdown",
   "id": "3b82c901",
   "metadata": {},
   "source": [
    "Side-by-side Bar Chart of US vs International titles added to Netflix over the years  "
   ]
  },
  {
   "cell_type": "code",
   "execution_count": 121,
   "id": "999139fb",
   "metadata": {},
   "outputs": [
    {
     "data": {
      "image/png": "[encoded data removed]",
      "text/plain": [
       "<Figure size 432x288 with 1 Axes>"
      ]
     },
     "metadata": {
      "needs_background": "light"
     },
     "output_type": "display_data"
    }
   ],
   "source": [
    "us_data = df[df['Country Type'] == 'United States']\n",
    "other_data = df[df['Country Type'] == 'Others']\n",
    "us_values = Counter(us_data['years'])\n",
    "us_values.pop('nan')\n",
    "other_values = Counter(other_data['years'])\n",
    "other_values.pop('nan')\n",
    "new_us_values = []\n",
    "new_other_values = []\n",
    "for i in years:\n",
    "    if us_values.get(str(i), 0) == 0:\n",
    "        new_us_values.append(0)\n",
    "    else:\n",
    "        new_us_values.append(us_values[str(i)])\n",
    "    if other_values.get(str(i), 0) == 0:\n",
    "        new_other_values.append(0)\n",
    "    else:\n",
    "        new_other_values.append(other_values[str(i)])\n",
    "fig = plt.figure()\n",
    "ax = fig.add_subplot(111)\n",
    "ax.bar([i-0.5 for i in years], new_us_values, width=0.4,color = 'red', label = \"US Movies\",align = 'edge', edgecolor = 'black')\n",
    "ax.bar(years, new_other_values, width=0.6,color = 'green', label = \"International Movies\", align = 'edge', edgecolor = 'black')\n",
    "plt.title('US vs International Netflix Titles', fontsize=14)\n",
    "ax.set_xlabel('Years', fontsize=14)\n",
    "plt.xticks(rotation = 45)\n",
    "ax.set_ylabel('Number of Titles', fontsize=14)\n",
    "plt.legend(loc = \"best\")\n",
    "plt.show()\n"
   ]
  },
  {
   "cell_type": "markdown",
   "id": "86925896",
   "metadata": {},
   "source": [
    "Simple countplot of total US vs Other movies in Netflix"
   ]
  },
  {
   "cell_type": "code",
   "execution_count": 76,
   "id": "fae12b97",
   "metadata": {
    "scrolled": false
   },
   "outputs": [
    {
     "data": {
      "image/png": "[encoded data removed]",
      "text/plain": [
       "<Figure size 432x288 with 1 Axes>"
      ]
     },
     "metadata": {
      "needs_background": "light"
     },
     "output_type": "display_data"
    }
   ],
   "source": [
    "sns.countplot(x = df['Country Type'])\n",
    "plt.show()"
   ]
  },
  {
   "cell_type": "markdown",
   "id": "ca1a9885",
   "metadata": {},
   "source": [
    "## 3B. Data Analysis - Visualization"
   ]
  },
  {
   "cell_type": "markdown",
   "id": "7047ffc2",
   "metadata": {},
   "source": [
    "Performing statistical analysis on data and look for patterns in visualizations"
   ]
  },
  {
   "cell_type": "markdown",
   "id": "be839f97",
   "metadata": {},
   "source": [
    "First, let us perform analysis and visualization on the 'Duration' and 'Release Year' columns of the data"
   ]
  },
  {
   "cell_type": "code",
   "execution_count": 120,
   "id": "215ec74b",
   "metadata": {},
   "outputs": [
    {
     "data": {
      "image/png": "[encoded data removed]",
      "text/plain": [
       "<Figure size 432x288 with 1 Axes>"
      ]
     },
     "metadata": {
      "needs_background": "light"
     },
     "output_type": "display_data"
    },
    {
     "name": "stdout",
     "output_type": "stream",
     "text": [
      "count    5377.000000\n",
      "mean       99.307978\n",
      "std        28.530881\n",
      "min         3.000000\n",
      "25%        86.000000\n",
      "50%        98.000000\n",
      "75%       114.000000\n",
      "max       312.000000\n",
      "Name: duration, dtype: float64\n"
     ]
    },
    {
     "data": {
      "image/png": "[encoded data removed]",
      "text/plain": [
       "<Figure size 432x288 with 1 Axes>"
      ]
     },
     "metadata": {
      "needs_background": "light"
     },
     "output_type": "display_data"
    },
    {
     "name": "stdout",
     "output_type": "stream",
     "text": [
      "This is the Covariance Matrix: \n",
      "[[814.01115843 -56.48875917]\n",
      " [-56.48875917  93.37902024]]\n",
      "\n",
      "Following is the Pearson Coefficient: \n",
      "-0.20489067800320127\n"
     ]
    }
   ],
   "source": [
    "plt.hist(df_movies1.duration, range = (df_movies1.duration.min(), df_movies1.duration.max()), bins = 15)\n",
    "plt.xlabel('Duration(in mins)')\n",
    "plt.ylabel('Number of Movies')\n",
    "plt.title('Movie Durations on Netflix')\n",
    "plt.grid(True)\n",
    "plt.show()\n",
    "print(df_movies1.duration.describe())\n",
    "#The histogram and the .describe() method shows that maximum movies are between 90-100 minutes.\n",
    "\n",
    "plt.scatter(y = df_movies1.duration, x = df_movies.release_year, color = 'red', alpha = 0.5, marker = '.')\n",
    "plt.xlabel('Release Years')\n",
    "plt.ylabel('Duration(in mins)')\n",
    "plt.title(\"Movie Release Years vs Duration\")\n",
    "plt.show()\n",
    "print(\"This is the Covariance Matrix: \")\n",
    "print(np.cov(df_movies1.duration, df_movies.release_year))\n",
    "corr, p = sts.pearsonr(df_movies1.duration, df_movies.release_year)\n",
    "print(\"\\nFollowing is the Pearson Coefficient: \")\n",
    "print(corr)\n",
    "#The scatterplot between Movie Duration and Release Year show no obvious correlation.\n",
    "#The Pearson coefficient proves this with value almost equal to 0"
   ]
  },
  {
   "cell_type": "markdown",
   "id": "14a5682f",
   "metadata": {},
   "source": [
    "Analysing and Visualizing the Release Years of movies in the data  "
   ]
  },
  {
   "cell_type": "code",
   "execution_count": 112,
   "id": "9a32fc3a",
   "metadata": {
    "scrolled": true
   },
   "outputs": [
    {
     "name": "stdout",
     "output_type": "stream",
     "text": [
      "Following Movies Were Added To Netflix the same year they were released: \n"
     ]
    },
    {
     "data": {
      "text/html": [
       "<div>\n",
       "<style scoped>\n",
       "    .dataframe tbody tr th:only-of-type {\n",
       "        vertical-align: middle;\n",
       "    }\n",
       "\n",
       "    .dataframe tbody tr th {\n",
       "        vertical-align: top;\n",
       "    }\n",
       "\n",
       "    .dataframe thead th {\n",
       "        text-align: right;\n",
       "    }\n",
       "</style>\n",
       "<table border=\"1\" class=\"dataframe\">\n",
       "  <thead>\n",
       "    <tr style=\"text-align: right;\">\n",
       "      <th></th>\n",
       "      <th>title</th>\n",
       "      <th>release_year</th>\n",
       "      <th>country</th>\n",
       "    </tr>\n",
       "  </thead>\n",
       "  <tbody>\n",
       "    <tr>\n",
       "      <th>3</th>\n",
       "      <td>9</td>\n",
       "      <td>2009</td>\n",
       "      <td>United States</td>\n",
       "    </tr>\n",
       "    <tr>\n",
       "      <th>36</th>\n",
       "      <td>#Selfie</td>\n",
       "      <td>2014</td>\n",
       "      <td>Romania</td>\n",
       "    </tr>\n",
       "    <tr>\n",
       "      <th>46</th>\n",
       "      <td>1 Chance 2 Dance</td>\n",
       "      <td>2014</td>\n",
       "      <td>United States</td>\n",
       "    </tr>\n",
       "    <tr>\n",
       "      <th>55</th>\n",
       "      <td>100 Things to do Before High School</td>\n",
       "      <td>2014</td>\n",
       "      <td>United States</td>\n",
       "    </tr>\n",
       "    <tr>\n",
       "      <th>62</th>\n",
       "      <td>13 Cameras</td>\n",
       "      <td>2015</td>\n",
       "      <td>United States</td>\n",
       "    </tr>\n",
       "    <tr>\n",
       "      <th>...</th>\n",
       "      <td>...</td>\n",
       "      <td>...</td>\n",
       "      <td>...</td>\n",
       "    </tr>\n",
       "    <tr>\n",
       "      <th>7549</th>\n",
       "      <td>WHAT DID JACK DO?</td>\n",
       "      <td>2020</td>\n",
       "      <td>United States</td>\n",
       "    </tr>\n",
       "    <tr>\n",
       "      <th>7568</th>\n",
       "      <td>What We Wanted</td>\n",
       "      <td>2020</td>\n",
       "      <td>Austria</td>\n",
       "    </tr>\n",
       "    <tr>\n",
       "      <th>7576</th>\n",
       "      <td>Wheels of Fortune</td>\n",
       "      <td>2020</td>\n",
       "      <td>United States</td>\n",
       "    </tr>\n",
       "    <tr>\n",
       "      <th>7591</th>\n",
       "      <td>Whipped</td>\n",
       "      <td>2020</td>\n",
       "      <td>Indonesia</td>\n",
       "    </tr>\n",
       "    <tr>\n",
       "      <th>7643</th>\n",
       "      <td>Wish Upon a Unicorn</td>\n",
       "      <td>2020</td>\n",
       "      <td>Country Unavailable</td>\n",
       "    </tr>\n",
       "  </tbody>\n",
       "</table>\n",
       "<p>589 rows × 3 columns</p>\n",
       "</div>"
      ],
      "text/plain": [
       "                                    title  release_year              country\n",
       "3                                       9          2009        United States\n",
       "36                                #Selfie          2014              Romania\n",
       "46                       1 Chance 2 Dance          2014        United States\n",
       "55    100 Things to do Before High School          2014        United States\n",
       "62                             13 Cameras          2015        United States\n",
       "...                                   ...           ...                  ...\n",
       "7549                    WHAT DID JACK DO?          2020        United States\n",
       "7568                       What We Wanted          2020              Austria\n",
       "7576                    Wheels of Fortune          2020        United States\n",
       "7591                              Whipped          2020            Indonesia\n",
       "7643                  Wish Upon a Unicorn          2020  Country Unavailable\n",
       "\n",
       "[589 rows x 3 columns]"
      ]
     },
     "metadata": {},
     "output_type": "display_data"
    },
    {
     "data": {
      "image/png": "[encoded data removed]",
      "text/plain": [
       "<Figure size 432x288 with 1 Axes>"
      ]
     },
     "metadata": {
      "needs_background": "light"
     },
     "output_type": "display_data"
    }
   ],
   "source": [
    "print(\"Following Movies Were Added To Netflix the same year they were released: \")\n",
    "same_year_movies = df_movies1[df_movies1.years == df_movies1.release_year]\n",
    "display(same_year_movies[['title', 'release_year', 'country']])\n",
    "#This lists all the movies on Netflix that were added to the library the same year they were released\n",
    "\n",
    "plt.hist(same_year_movies.release_year, color = 'pink')\n",
    "plt.xlabel('Years')\n",
    "plt.ylabel('No. of Movies')\n",
    "plt.title('Same-Year Releases Added To Netflix')\n",
    "plt.show()\n",
    "#We can notice that since 2017, Netflix accelerated its acquisition of same-year movie releases. \n",
    "#This reached an even higher level in 2021, suggesting a paradigm shift due to COVID-19"
   ]
  },
  {
   "cell_type": "markdown",
   "id": "355265d0",
   "metadata": {},
   "source": [
    "# 4. Netflix Title Recommendation\n"
   ]
  },
  {
   "cell_type": "markdown",
   "id": "8f6532f5",
   "metadata": {},
   "source": [
    "This is a Netflix Title recommendation procedure that recommends Netflix movies or TV shows to users based on their preferences."
   ]
  },
  {
   "cell_type": "markdown",
   "id": "ef85bf9b",
   "metadata": {},
   "source": [
    "Preparing a dataset for Netflix title recommendations"
   ]
  },
  {
   "cell_type": "code",
   "execution_count": 44,
   "id": "8a63328b",
   "metadata": {
    "collapsed": true
   },
   "outputs": [
    {
     "name": "stdout",
     "output_type": "stream",
     "text": [
      "   show_id     type   title                director  \\\n",
      "0       s1  TV Show      3%  Director Not Mentioned   \n",
      "5       s6  TV Show      46             Serdar Akar   \n",
      "11     s12  TV Show    1983  Director Not Mentioned   \n",
      "12     s13  TV Show    1994    Diego Enrique Osorno   \n",
      "16     s17  TV Show  Feb-09  Director Not Mentioned   \n",
      "\n",
      "                                                 cast                country  \\\n",
      "0   João Miguel, Bianca Comparato, Michel Gomes, R...                 Brazil   \n",
      "5   Erdal Beşikçioğlu, Yasemin Allen, Melis Birkan...                 Turkey   \n",
      "11  Robert Więckiewicz, Maciej Musiał, Michalina O...  Poland, United States   \n",
      "12                                 Cast Not Available                 Mexico   \n",
      "16  Shahd El Yaseen, Shaila Sabt, Hala, Hanadi Al-...    Country Unavailable   \n",
      "\n",
      "           date_added  release_year rating  seasons  \\\n",
      "0     August 14, 2020          2020  TV-MA        4   \n",
      "5        July 1, 2017          2016  TV-MA        1   \n",
      "11  November 30, 2018          2018  TV-MA        1   \n",
      "12       May 17, 2019          2019  TV-MA        1   \n",
      "16     March 20, 2019          2018  TV-14        1   \n",
      "\n",
      "                                            listed_in  \\\n",
      "0   International TV Shows, TV Dramas, TV Sci-Fi &...   \n",
      "5     International TV Shows, TV Dramas, TV Mysteries   \n",
      "11  Crime TV Shows, International TV Shows, TV Dramas   \n",
      "12  Crime TV Shows, Docuseries, International TV S...   \n",
      "16                  International TV Shows, TV Dramas   \n",
      "\n",
      "                                          description  years Country Type  \n",
      "0   In a future where the elite inhabit an island ...   2008       Others  \n",
      "5   A genetics professor experiments with a treatm...   2011       Others  \n",
      "11  In this dark alt-history thriller, a naïve law...   2011       Others  \n",
      "12  Archival video and new interviews examine Mexi...   2011       Others  \n",
      "16  As a psychology professor faces Alzheimer's, h...   2011       Others  \n"
     ]
    }
   ],
   "source": [
    "df_movies = df[df.type == 'Movie']\n",
    "df_movies1 = df_movies.copy()\n",
    "df_shows = df[df.type == 'TV Show']\n",
    "df_shows1 = df_shows.copy()\n",
    "df_movies1.loc[df_movies1['years'] == 'nan', 'years'] = 0\n",
    "df_movies1['years'] = pd.to_numeric(df_movies1['years'])\n",
    "df_movies1['duration'] = pd.to_numeric(df_movies['duration'].str.split(' ', expand = True)[0])\n",
    "df_shows1.loc[df_shows1['years'] == 'nan', 'years'] = 0\n",
    "df_shows1['years'] = pd.to_numeric(df_shows1['years'])\n",
    "df_shows1['duration'] = pd.to_numeric(df_shows['duration'].str.split(' ', expand = True)[0])\n",
    "df_shows1.rename(columns = {'duration': 'seasons'}, inplace = True)\n",
    "\n"
   ]
  },
  {
   "cell_type": "markdown",
   "id": "de62a04e",
   "metadata": {},
   "source": [
    "Initializing the input parameters for the recommendation:"
   ]
  },
  {
   "cell_type": "code",
   "execution_count": 98,
   "id": "fcc726f3",
   "metadata": {},
   "outputs": [
    {
     "name": "stdout",
     "output_type": "stream",
     "text": [
      "Enter 0 for movies or 1 for TV shows: 0\n",
      "Enter string for your favorite actor, or 'None': Chris Evans\n",
      "Enter preferred movie duration (in minutes): 120\n",
      "Enter 0 if you want recently released titles, 1 otherwise: 1\n",
      "Enter your preferred genre, or 'None': Action\n",
      "Enter 0 if you want titles recently added on Netflix, 1 otherwise: 1\n",
      "Enter 0 for titles from the United Stated, 1 for titles from other countries: 0\n"
     ]
    }
   ],
   "source": [
    "movie_or_tv = int(input(\"Enter 0 for movies or 1 for TV shows: \"))\n",
    "if movie_or_tv == 0:\n",
    "    fav_actor = input(\"Enter string for your favorite actor, or 'None': \")\n",
    "    duration = int(input(\"Enter preferred movie duration (in minutes): \"))\n",
    "else:\n",
    "    seasons = int(input(\"Enter preferred number of seaons: \"))\n",
    "\n",
    "recent_or_not = int(input(\"Enter 0 if you want recently released titles, 1 otherwise: \"))\n",
    "genre = input(\"Enter your preferred genre, or 'None': \")\n",
    "new_on_netflix = int(input(\"Enter 0 if you want titles recently added on Netflix, 1 otherwise: \"))\n",
    "us_or_others = int(input(\"Enter 0 for titles from the United Stated, 1 for titles from other countries: \"))"
   ]
  },
  {
   "cell_type": "markdown",
   "id": "9dbf2b2a",
   "metadata": {},
   "source": [
    "Creating method for movie recommendations:"
   ]
  },
  {
   "cell_type": "code",
   "execution_count": 99,
   "id": "8e4df451",
   "metadata": {
    "scrolled": true
   },
   "outputs": [],
   "source": [
    "def movie_recommendations(df_movies1, fav_actor, duration, recent_or_not, genre, new_on_netflix, us_or_others):\n",
    "    df_movies1['weight1'] = df_movies1.apply(lambda x: 1 if fav_actor in x['cast'] else 0, axis = 1)\n",
    "    df_movies1['weight2'] = df_movies1.apply(lambda x: 1 if recent_or_not == 0 and x['release_year'] >= 2020 else 0, axis = 1)\n",
    "    df_movies1['weight3'] = df_movies1.apply(lambda x: 1 if genre in x['listed_in'] else 0, axis = 1)\n",
    "    df_movies1['weight4'] = df_movies1.apply(lambda x: 1 if new_on_netflix == 0 and x['years'] >= 2020 else 0, axis = 1)\n",
    "    df_movies1['weight5'] = df_movies1.apply(lambda x: 1 if (us_or_others == 0 and x['Country Type'] == 'United States') or (us_or_others == 1 and x['Country Type'] == 'Others') else 0, axis = 1)\n",
    "    df_movies1['weight6'] = df_movies1.apply(lambda x: 1 if x['duration'] < duration-10 or x['duration'] > duration+10 else 0, axis = 1)\n",
    "    df_movies1['weight'] = df_movies1['weight1'] + df_movies1['weight2'] + df_movies1['weight3'] + df_movies1['weight4'] + df_movies1['weight5']+ df_movies1['weight6']\n",
    "    df_movies1.drop(columns = ['weight1','weight2','weight3','weight4','weight5', 'weight6'], inplace = True)\n",
    "    df_movies1 = df_movies1.sort_values(by = ['weight'], ascending = False)\n",
    "    print('Your Top 5 Movie Recommendations Are: \\n')\n",
    "    display(df_movies1.head()[['show_id','title','director','cast','country','release_year','date_added','duration','listed_in']])\n",
    "    \n"
   ]
  },
  {
   "cell_type": "markdown",
   "id": "ad81d424",
   "metadata": {},
   "source": [
    "Creating method for tv recommendations: "
   ]
  },
  {
   "cell_type": "code",
   "execution_count": 100,
   "id": "589b694a",
   "metadata": {},
   "outputs": [],
   "source": [
    "def tv_recommendation(df_shows1, seasons, recent_or_not, genre, new_on_netflix, us_or_others):\n",
    "    \n",
    "    df_shows1['weight1'] = df_shows1.apply(lambda x: 1 if x['seasons'] == seasons else 0, axis = 1)\n",
    "    df_shows1['weight2'] = df_shows1.apply(lambda x: 1 if recent_or_not == 0 and x['release_year'] >= 2020 else 0, axis = 1)\n",
    "    df_shows1['weight3'] = df_shows1.apply(lambda x: 1 if genre in x['listed_in'] else 0, axis = 1)\n",
    "    df_shows1['weight4'] = df_shows1.apply(lambda x: 1 if new_on_netflix == 0 and x['years'] >= 2020 else 0, axis = 1)\n",
    "    df_shows1['weight5'] = df_shows1.apply(lambda x: 1 if (us_or_others == 0 and x['Country Type'] == 'United States') or (us_or_others == 1 and x['Country Type'] == 'Others') else 0, axis = 1)\n",
    "    df_shows1['weight'] = df_shows1['weight1'] + df_shows1['weight2'] + df_shows1['weight3'] + df_shows1['weight4'] + df_shows1['weight5']#+ df_shows1['weight6']\n",
    "    df_shows1.drop(columns = ['weight1','weight2','weight3','weight4','weight5'], inplace = True)\n",
    "    df_shows1 = df_shows1.sort_values(by = ['weight'], ascending = False)\n",
    "    print('Your Top 5 TV Show Recommendations Are: \\n')\n",
    "    display(df_shows1.head()[['show_id', 'title', 'cast','country','release_year','date_added','seasons','listed_in']])\n"
   ]
  },
  {
   "cell_type": "markdown",
   "id": "b47d6b4c",
   "metadata": {},
   "source": [
    "Generating title recommendations:"
   ]
  },
  {
   "cell_type": "code",
   "execution_count": 102,
   "id": "9841a294",
   "metadata": {},
   "outputs": [
    {
     "name": "stdout",
     "output_type": "stream",
     "text": [
      "Your Top 5 Movie Recommendations Are: \n",
      "\n"
     ]
    },
    {
     "data": {
      "text/html": [
       "<div>\n",
       "<style scoped>\n",
       "    .dataframe tbody tr th:only-of-type {\n",
       "        vertical-align: middle;\n",
       "    }\n",
       "\n",
       "    .dataframe tbody tr th {\n",
       "        vertical-align: top;\n",
       "    }\n",
       "\n",
       "    .dataframe thead th {\n",
       "        text-align: right;\n",
       "    }\n",
       "</style>\n",
       "<table border=\"1\" class=\"dataframe\">\n",
       "  <thead>\n",
       "    <tr style=\"text-align: right;\">\n",
       "      <th></th>\n",
       "      <th>show_id</th>\n",
       "      <th>title</th>\n",
       "      <th>director</th>\n",
       "      <th>cast</th>\n",
       "      <th>country</th>\n",
       "      <th>release_year</th>\n",
       "      <th>date_added</th>\n",
       "      <th>duration</th>\n",
       "      <th>listed_in</th>\n",
       "    </tr>\n",
       "  </thead>\n",
       "  <tbody>\n",
       "    <tr>\n",
       "      <th>635</th>\n",
       "      <td>s636</td>\n",
       "      <td>Avengers: Infinity War</td>\n",
       "      <td>Anthony Russo, Joe Russo</td>\n",
       "      <td>Robert Downey Jr., Josh Brolin, Mark Ruffalo, ...</td>\n",
       "      <td>United States</td>\n",
       "      <td>2018</td>\n",
       "      <td>December 25, 2018</td>\n",
       "      <td>150</td>\n",
       "      <td>Action &amp; Adventure, Sci-Fi &amp; Fantasy</td>\n",
       "    </tr>\n",
       "    <tr>\n",
       "      <th>5699</th>\n",
       "      <td>s5700</td>\n",
       "      <td>Solo: A Star Wars Story (Spanish Version)</td>\n",
       "      <td>Ron Howard</td>\n",
       "      <td>Alden Ehrenreich, Woody Harrelson, Emilia Clar...</td>\n",
       "      <td>United States</td>\n",
       "      <td>2018</td>\n",
       "      <td>January 9, 2019</td>\n",
       "      <td>135</td>\n",
       "      <td>Action &amp; Adventure, Children &amp; Family Movies, ...</td>\n",
       "    </tr>\n",
       "    <tr>\n",
       "      <th>1414</th>\n",
       "      <td>s1415</td>\n",
       "      <td>Cleopatra Jones</td>\n",
       "      <td>Jack Starrett</td>\n",
       "      <td>Tamara Dobson, Bernie Casey, BrendaSykes, Esth...</td>\n",
       "      <td>United States</td>\n",
       "      <td>1973</td>\n",
       "      <td>November 1, 2019</td>\n",
       "      <td>89</td>\n",
       "      <td>Action &amp; Adventure, Classic Movies</td>\n",
       "    </tr>\n",
       "    <tr>\n",
       "      <th>6199</th>\n",
       "      <td>s6200</td>\n",
       "      <td>The Car: Road to Revenge</td>\n",
       "      <td>G.J. Echternkamp</td>\n",
       "      <td>Grant Bowler, Kathleen Munroe, Martin Hancock,...</td>\n",
       "      <td>United States</td>\n",
       "      <td>2019</td>\n",
       "      <td>February 1, 2020</td>\n",
       "      <td>89</td>\n",
       "      <td>Action &amp; Adventure, Horror Movies, Sci-Fi &amp; Fa...</td>\n",
       "    </tr>\n",
       "    <tr>\n",
       "      <th>5209</th>\n",
       "      <td>s5210</td>\n",
       "      <td>Rim of the World</td>\n",
       "      <td>McG</td>\n",
       "      <td>Jack Gore, Miya Cech, Benjamin Flores Jr., Ale...</td>\n",
       "      <td>United States</td>\n",
       "      <td>2019</td>\n",
       "      <td>May 24, 2019</td>\n",
       "      <td>99</td>\n",
       "      <td>Action &amp; Adventure, Independent Movies, Sci-Fi...</td>\n",
       "    </tr>\n",
       "  </tbody>\n",
       "</table>\n",
       "</div>"
      ],
      "text/plain": [
       "     show_id                                      title  \\\n",
       "635     s636                     Avengers: Infinity War   \n",
       "5699   s5700  Solo: A Star Wars Story (Spanish Version)   \n",
       "1414   s1415                            Cleopatra Jones   \n",
       "6199   s6200                   The Car: Road to Revenge   \n",
       "5209   s5210                           Rim of the World   \n",
       "\n",
       "                      director  \\\n",
       "635   Anthony Russo, Joe Russo   \n",
       "5699                Ron Howard   \n",
       "1414             Jack Starrett   \n",
       "6199          G.J. Echternkamp   \n",
       "5209                       McG   \n",
       "\n",
       "                                                   cast        country  \\\n",
       "635   Robert Downey Jr., Josh Brolin, Mark Ruffalo, ...  United States   \n",
       "5699  Alden Ehrenreich, Woody Harrelson, Emilia Clar...  United States   \n",
       "1414  Tamara Dobson, Bernie Casey, BrendaSykes, Esth...  United States   \n",
       "6199  Grant Bowler, Kathleen Munroe, Martin Hancock,...  United States   \n",
       "5209  Jack Gore, Miya Cech, Benjamin Flores Jr., Ale...  United States   \n",
       "\n",
       "      release_year         date_added  duration  \\\n",
       "635           2018  December 25, 2018       150   \n",
       "5699          2018    January 9, 2019       135   \n",
       "1414          1973   November 1, 2019        89   \n",
       "6199          2019   February 1, 2020        89   \n",
       "5209          2019       May 24, 2019        99   \n",
       "\n",
       "                                              listed_in  \n",
       "635                Action & Adventure, Sci-Fi & Fantasy  \n",
       "5699  Action & Adventure, Children & Family Movies, ...  \n",
       "1414                 Action & Adventure, Classic Movies  \n",
       "6199  Action & Adventure, Horror Movies, Sci-Fi & Fa...  \n",
       "5209  Action & Adventure, Independent Movies, Sci-Fi...  "
      ]
     },
     "metadata": {},
     "output_type": "display_data"
    },
    {
     "name": "stdout",
     "output_type": "stream",
     "text": [
      "Thank you for playing!!\n"
     ]
    }
   ],
   "source": [
    "if movie_or_tv == 0:\n",
    "    movie_recommendations(df_movies1, fav_actor, duration, recent_or_not, genre, new_on_netflix, us_or_others)\n",
    "else:\n",
    "    tv_recommendation(df_shows1, seasons, recent_or_not, genre, new_on_netflix, us_or_others)\n",
    "print(\"Thank you for playing!!\")    "
   ]
  },
  {
   "cell_type": "code",
   "execution_count": null,
   "id": "84b6d773",
   "metadata": {},
   "outputs": [],
   "source": []
  }
 ],
 "metadata": {
  "kernelspec": {
   "display_name": "Python 3",
   "language": "python",
   "name": "python3"
  },
  "language_info": {
   "codemirror_mode": {
    "name": "ipython",
    "version": 3
   },
   "file_extension": ".py",
   "mimetype": "text/x-python",
   "name": "python",
   "nbconvert_exporter": "python",
   "pygments_lexer": "ipython3",
   "version": "3.8.8"
  }
 },
 "nbformat": 4,
 "nbformat_minor": 5
}
